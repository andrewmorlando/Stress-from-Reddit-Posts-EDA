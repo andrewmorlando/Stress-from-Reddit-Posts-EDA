{
 "cells": [
  {
   "cell_type": "code",
   "execution_count": 1,
   "metadata": {},
   "outputs": [],
   "source": [
    "import pandas as pd\n",
    "from collections import Counter"
   ]
  },
  {
   "cell_type": "code",
   "execution_count": 45,
   "metadata": {},
   "outputs": [
    {
     "data": {
      "text/plain": [
       "subreddit         post_id  sentence_range  text                                                                                                                                                                                                                                                                                                                                                                                                                                                                                                                                                                                                                                    id     label  confidence  social_timestamp  social_karma  syntax_ari  lex_liwc_WC  lex_liwc_Analytic  lex_liwc_Clout  lex_liwc_Authentic  lex_liwc_Tone  lex_liwc_WPS  lex_liwc_Sixltr  lex_liwc_Dic  lex_liwc_function  lex_liwc_pronoun  lex_liwc_ppron  lex_liwc_i  lex_liwc_we  lex_liwc_you  lex_liwc_shehe  lex_liwc_they  lex_liwc_ipron  lex_liwc_article  lex_liwc_prep  lex_liwc_auxverb  lex_liwc_adverb  lex_liwc_conj  lex_liwc_negate  lex_liwc_verb  lex_liwc_adj  lex_liwc_compare  lex_liwc_interrog  lex_liwc_number  lex_liwc_quant  lex_liwc_affect  lex_liwc_posemo  lex_liwc_negemo  lex_liwc_anx  lex_liwc_anger  lex_liwc_sad  lex_liwc_social  lex_liwc_family  lex_liwc_friend  lex_liwc_female  lex_liwc_male  lex_liwc_cogproc  lex_liwc_insight  lex_liwc_cause  lex_liwc_discrep  lex_liwc_tentat  lex_liwc_certain  lex_liwc_differ  lex_liwc_percept  lex_liwc_see  lex_liwc_hear  lex_liwc_feel  lex_liwc_bio  lex_liwc_body  lex_liwc_health  lex_liwc_sexual  lex_liwc_ingest  lex_liwc_drives  lex_liwc_affiliation  lex_liwc_achieve  lex_liwc_power  lex_liwc_reward  lex_liwc_risk  lex_liwc_focuspast  lex_liwc_focuspresent  lex_liwc_focusfuture  lex_liwc_relativ  lex_liwc_motion  lex_liwc_space  lex_liwc_time  lex_liwc_work  lex_liwc_leisure  lex_liwc_home  lex_liwc_money  lex_liwc_relig  lex_liwc_death  lex_liwc_informal  lex_liwc_swear  lex_liwc_netspeak  lex_liwc_assent  lex_liwc_nonflu  lex_liwc_filler  lex_liwc_AllPunc  lex_liwc_Period  lex_liwc_Comma  lex_liwc_Colon  lex_liwc_SemiC  lex_liwc_QMark  lex_liwc_Exclam  lex_liwc_Dash  lex_liwc_Quote  lex_liwc_Apostro  lex_liwc_Parenth  lex_liwc_OtherP  lex_dal_max_pleasantness  lex_dal_max_activation  lex_dal_max_imagery  lex_dal_min_pleasantness  lex_dal_min_activation  lex_dal_min_imagery  lex_dal_avg_activation  lex_dal_avg_imagery  lex_dal_avg_pleasantness  social_upvote_ratio  social_num_comments  syntax_fk_grade  sentiment\n",
       "almosthomeless    5luwz3   [10, 15]        I am afraid that she will sell the house because of this and I'm not sure what the future holds for my family. Because I made some very bad decisions in the past, my credit is horrible. I have tried to get a loan and it's just not happening. I have no car (no money to get a car, let alone make payments) and payday loans are not offered in AZ. Every online loan option, although bad, seems like a better fate than losing my home of 12 years.                                                                                                                                                                              1804   1      0.800000    1483481590        5              2.823077   89           44.41              4.62            73.23               1.00           17.8          8.99             95.51         53.93              14.61             10.11           8.99        0.00         0.00          1.12            0.00           4.49            6.74              10.11          10.11             2.25             6.74           5.62             20.22          5.62          3.37              1.12               1.12             2.25            10.11            3.37             6.74             2.25          0.00            2.25          3.37             1.12             0.00             1.12             0.00           16.85             2.25              4.49            0.00              3.37             2.25              5.62             0.00              0.00          0.00           0.00           0.00          0.00           0.00             0.00             0.00             12.36            1.12                  3.37              3.37            3.37             3.37           3.37                13.48                  3.37                  8.99              2.25             2.25            4.49           3.37           1.12              3.37           8.99            0.0             0.00            0.00               0.00            0.00               0.0              0.00             0.0              14.61             5.62             4.49            0.00            0.0             0.00            0.0              0.00           0.0             2.25              2.25              0.00             2.8333                    2.5000                  3.0                  1.0000                    1.0000                  1.0                  1.70310                 1.49487              1.83658                   0.65                 15                   4.132747         -0.401250    1\n",
       "ptsd              9eb4ck   [25, 30]        It started again, but worse. I'd bring up the conversation we had and he'd ask how dare I call him names. How dare I, he said. So, on September 7th, I decided that I had enough. I cut him out of my life.                                                                                                                                                                                                                                                                                                                                                                                                                             616    0      1.000000    1536475868        1             -1.020667   43           1.50               75.74           87.51               1.00           8.6           9.30             95.35         62.79              32.56             27.91           16.28       2.33         0.00          9.30            0.00           4.65            2.33              9.30           9.30              9.30             11.63          0.00             20.93          2.33          2.33              4.65               0.00             0.00            4.65             0.00             4.65             0.00          0.00            0.00          23.26            0.00             0.00             0.00             9.30           9.30              2.33              4.65            0.00              0.00             0.00              2.33             2.33              0.00          2.33           0.00           2.33          0.00           2.33             0.00             0.00             13.95            4.65                  0.00              2.33            4.65             2.33           11.63               6.98                   0.00                  16.28             2.33             6.98            6.98           0.00           0.00              0.00           0.00            0.0             0.00            0.00               0.00            0.00               0.0              0.00             0.0              25.58             11.63            9.30            0.00            0.0             0.00            0.0              0.00           0.0             4.65              0.00              0.00             2.8333                    2.5714                  3.0                  1.1429                    1.1429                  1.0                  1.81425                 1.56098              1.85167                   0.67                 4                    1.817778         -0.200000    1\n",
       "                  9ip020   (0, 5)          BACKGROUND: I didn't know much about PTSD when we started dating. I had to learn from the bottom up, and definitely sometimes the hard way. It is a struggle having PTSD, as well as loving someone with it. I'm posting some journal entries I wrote during the first few months we've been together. Hopefully anyone that reads it can relate, feel less alone, maybe less frustrated, maybe more patient for their loved one?                                                                                                                                                                                                       26302  0      0.800000    1537848630        3              5.602544   73           31.12              79.44           79.89               76.42          14.6          17.81            89.04         53.42              17.81             9.59            5.48        2.74         0.00          0.00            1.37           8.22            5.48              12.33          10.96             9.59             5.48           1.37             16.44          12.33         8.22              1.37               2.74             8.22            10.96            6.85             4.11             1.37          1.37            1.37          13.70            0.00             0.00             0.00             0.00           17.81             5.48              0.00            1.37              9.59             1.37              1.37             2.74              0.00          0.00           2.74           1.37          0.00           0.00             0.00             0.00             13.70            8.22                  1.37              4.11            0.00             0.00           8.22                8.22                   1.37                  15.07             0.00             5.48            9.59           2.74           0.00              0.00           0.00            0.0             0.00            1.37               0.00            0.00               0.0              1.37             0.0              19.18             5.48             6.85            1.37            0.0             1.37            0.0              0.00           0.0             4.11              0.00              0.00             3.0000                    2.5714                  2.8                  1.0000                    1.1429                  1.0                  1.67522                 1.44444              1.85638                   1.00                 2                    5.031579          0.065909    1\n",
       "                  9j9xcy   [5, 10]         Now while yes it could have taken me 30 minutes to figure out the bleach ratio, it was weird because once it was 2:30 I realized it was time to make the kids snack, and I went to look for the little baskets we put the food in and they were gone. I was frantically looking for them and I asked my coworker if she saw them, she explained in a confusing manner that she already made snack. And if she made snack she would have been right in front of me because we were in a very small kitchen. And if I were \"there\" I definetly would have known. And when I came out of this \"blackout\" I was really groggy and anxious.  1143   1      1.000000    1538023907        2              5.621417   125          16.03              53.20           64.32               1.28           25.0          12.00            92.00         64.00              21.60             16.80           8.80        1.60         0.00          4.00            2.40           4.80            4.80              10.40          12.00             4.80             11.20          0.00             24.00          2.40          0.00              0.80               3.20             0.00            3.20             0.00             3.20             2.40          0.00            0.00          11.20            0.00             0.00             4.00             0.00           13.60             3.20              4.00            4.80              3.20             0.00              3.20             2.40              2.40          0.00           0.00           4.00          0.00           0.00             0.00             4.00             3.20             1.60                  0.00              0.80            0.80             0.00           16.80               4.80                   0.00                  16.80             3.20             8.00            5.60           0.80           0.00              0.80           0.00            0.0             0.00            0.80               0.00            0.00               0.8              0.00             0.0              10.40             4.00             2.40            0.80            0.0             0.00            0.0              0.00           3.2             0.00              0.00              0.00             2.6250                    2.5000                  3.0                  1.0000                    1.3333                  1.0                  1.67668                 1.50755              1.83030                   1.00                 2                    5.783088         -0.153827    1\n",
       "                  9ja6n0   [5, 10]         My therapist says this is a normal behavior to display. Having been ripped from my children and left on the streets is very hard and i honeslty want to give up. But the anxiety swirls to the point i keep trying to find where i went wrong. It replays and plays in my head over and over like a horror movie. The feeling of wanting to die because at that point i had nothing left.                                                                                                                                                                                                                                               1482   1      1.000000    1538026635        0              4.784400   75           86.07              21.18           91.75               2.41           15.0          16.00            94.67         58.67              13.33             9.33            9.33        0.00         0.00          0.00            0.00           4.00            8.00              18.67          6.67              2.67             8.00           1.33             22.67          4.00          1.33              1.33               0.00             0.00            5.33             1.33             4.00             2.67          0.00            0.00          4.00             0.00             0.00             0.00             0.00           10.67             2.67              1.33            2.67              1.33             1.33              1.33             5.33              1.33          1.33           2.67           2.67          1.33           1.33             0.00             0.00             8.00             0.00                  1.33              5.33            0.00             1.33           6.67                10.67                  0.00                  18.67             2.67             16.00           0.00           0.00           2.67              0.00           0.00            0.0             1.33            0.00               0.00            0.00               0.0              0.00             0.0              6.67              6.67             0.00            0.00            0.0             0.00            0.0              0.00           0.0             0.00              0.00              0.00             2.7143                    2.8000                  3.0                  1.0000                    1.1429                  1.0                  1.78986                 1.53231              1.81946                   0.50                 0                    4.734667         -0.145833    1\n",
       "                                                                                                                                                                                                                                                                                                                                                                                                                                                                                                                                                                                                                                                                                                                                                                                                                                                                                                                                                                                                                                                                                                                                                                                                                                                                                                                                                                                                                                                                                                                                                                                                                                                                                                                                                                                                                                                                                                                                                                                                                                                                                                                                                                                                                                                                                                                                                                                                                                                                                                                                                                                                                                                              ..\n",
       "domesticviolence  74d992   [0, 5]          Hey y'all. Throw away for obvious reasons. I am so confused and I don't know what to do or who to reach out to. I started dating my boyfriend two years ago when I moved away from my home to a new state for a job. He was funny, intelligent, and *very* charming.                                                                                                                                                                                                                                                                                                                                                                    897    0      0.600000    1507172238        6              0.194970   53           49.27              42.51           99.00               89.18          10.6          13.21            96.23         60.38              18.87             15.09           11.32       0.00         1.89          1.89            0.00           3.77            3.77              18.87          7.55              5.66             9.43           1.89             15.09          3.77          0.00              5.66               1.89             0.00            7.55             5.66             1.89             1.89          0.00            0.00          11.32            0.00             1.89             0.00             3.77           9.43              3.77              1.89            0.00              3.77             1.89              1.89             0.00              0.00          0.00           0.00           0.00          0.00           0.00             0.00             0.00             3.77             3.77                  0.00              0.00            0.00             0.00           7.55                9.43                   0.00                  20.75             3.77             5.66            11.32          1.89           0.00              1.89           0.00            0.0             0.00            1.89               0.00            0.00               0.0              0.00             0.0              20.75             9.43             3.77            0.00            0.0             0.00            0.0              0.00           0.0             3.77              0.00              3.77             2.8333                    2.7143                  3.0                  1.0000                    1.1250                  1.0                  1.76664                 1.54583              1.94903                   0.88                 6                    2.145000          0.282727    1\n",
       "                  74k1gv   (5, 10)         I think it was last year, we could hear the little girl crying out so loud inside their home, we called the cops. This is just a rumor, but our next-door neighbors say that the house is actually under police watch, and that they're drug dealers. The dad is some heavily obese man who should probably invest in larger shirts, and he doesn't leave the home. There are always cars coming and going from the house, sometimes the same cars, other times cars we've never seen before. Ya know, to buy drugs and shit.                                                                                                           16084  1      0.800000    1507248318        6              7.690612   95           39.54              94.27           64.06               4.46           19.0          6.32             94.74         51.58              14.74             8.42            1.05        4.21         1.05          1.05            1.05           6.32            8.42              7.37           10.53             6.32             6.32           2.11             21.05          4.21          3.16              1.05               0.00             1.05            2.11             0.00             2.11             0.00          1.05            1.05          17.89            1.05             1.05             1.05             3.16           12.63             2.11              0.00            2.11              3.16             2.11              3.16             5.26              2.11          3.16           0.00           5.26          2.11           3.16             0.00             1.05             9.47             5.26                  0.00              4.21            0.00             0.00           4.21                12.63                  2.11                  20.00             3.16             8.42            8.42           2.11           0.00              6.32           2.11            0.0             0.00            2.11               1.05            1.05               0.0              0.00             0.0              17.89             5.26             8.42            0.00            0.0             0.00            0.0              1.05           0.0             3.16              0.00              0.00             2.8333                    2.7000                  3.0                  1.1429                    1.1250                  1.0                  1.73689                 1.72593              1.82185                   1.00                 6                    6.743796         -0.081250    1\n",
       "                           [0, 5]          Hello. As you can tell by the title, I'm concerned about this little girl across the street. She's able to walk and talk, but I don't think she's even 5 yet. From what I've witnessed the four years I've lived in this house, the home she lives in is not at all suitable for her as a developing child. Her parents are constantly screaming at each other in the street, and the girl is bawling, as her mom commands her to get into her car so she can take her wherever.                                                                                                                                                        496    1      0.571429    1507248318        6              5.944639   91           36.65              88.65           17.46               11.53          18.2          10.99            94.51         62.64              20.88             16.48           4.40        0.00         1.10          10.99           0.00           4.40            7.69              17.58          12.09             6.59             8.79           2.20             17.58          3.30          3.30              2.20               2.20             2.20            2.20             0.00             1.10             0.00          0.00            0.00          20.88            2.20             0.00             14.29            0.00           5.49              1.10              0.00            0.00              0.00             1.10              3.30             1.10              0.00          1.10           0.00           2.20          0.00           2.20             0.00             0.00             7.69             2.20                  1.10              2.20            2.20             0.00           1.10                19.78                  0.00                  17.58             2.20             12.09           3.30           1.10           0.00              2.20           0.00            0.0             0.00            0.00               0.00            0.00               0.0              0.00             0.0              17.58             5.49             5.49            0.00            0.0             0.00            0.0              0.00           0.0             6.59              0.00              0.00             2.8333                    2.8571                  3.0                  1.0000                    1.1250                  1.0                  1.62352                 1.64878              1.84442                   1.00                 6                    6.087340          0.147500    1\n",
       "                  74uvrg   (25, 30)        Even as I’m cooking, he’s still screaming in my face, telling me that I’m done at my job and I need to quit now. I yell back, something about him not having a job and he grips me up from behind with an arm around my throat, and I grab the knife I was using to cut chicken and tell him to get off of me. He lets go, and we scream a bit more. I made a smart remark, and he jabbed me in my face. It busted the inside of my lip and I was bleeding.                                                                                                                                                                             18779  1      1.000000    1507383271        9              1.406563   98           30.73              23.75           65.98               1.53           19.6          6.12             95.92         68.37              28.57             25.51           17.35       2.04         0.00          6.12            0.00           3.06            6.12              17.35          7.14              6.12             8.16           1.02             18.37          3.06          2.04              0.00               0.00             2.04            5.10             1.02             4.08             0.00          1.02            0.00          10.20            0.00             0.00             0.00             6.12           5.10              0.00              2.04            1.02              1.02             0.00              1.02             6.12              0.00          4.08           2.04           7.14          6.12           1.02             0.00             1.02             5.10             2.04                  1.02              1.02            1.02             0.00           4.08                10.20                  0.00                  12.24             1.02             9.18            3.06           2.04           1.02              0.00           0.00            0.0             0.00            0.00               0.00            0.00               0.0              0.00             0.0              14.29             5.10             6.12            0.00            0.0             0.00            0.0              0.00           0.0             3.06              0.00              0.00             2.8000                    2.8571                  3.0                  1.0000                    1.1250                  1.0                  1.77635                 1.75000              1.86997                   0.91                 9                    3.122291         -0.057143    1\n",
       "survivorsofabuse  9y9hvu   (5, 10)         It’s a long twisted story about how I found this out, but I was told by my parents that I had been assaulted by R when I was younger. My aunt, not R’s mom, had taken us to the pool and R had taken me to the bathroom to change. When we hadn’t come back in a few minutes she came to check on us and she found me naked with R fondling me and trying to insert his penis into my mouth. She stopped the assault but doesn’t know what happened prior to finding us. Remember I didn’t recall any of these events as a 36 year old.                                                                                                 19913  0      0.800000    1542573165        4              4.720263   109          30.80              42.71           96.77               5.86           21.8          11.01            94.50         59.63              22.02             17.43           10.09       3.67         0.00          3.67            0.00           4.59            5.50              14.68          9.17              4.59             8.26           3.67             21.10          3.67          1.83              3.67               0.92             1.83            1.83             0.00             1.83             0.00          1.83            0.00          11.93            2.75             0.00             4.59             0.92           12.84             5.50              1.83            0.00              1.83             0.00              3.67             0.00              0.00          0.00           0.00           2.75          2.75           0.00             1.83             0.00             10.09            4.59                  0.92              1.83            1.83             0.92           16.51               3.67                   0.00                  16.51             3.67             5.50            8.26           0.00           1.83              0.92           0.00            0.0             0.00            2.75               0.00            2.75               0.0              0.00             0.0              11.93             4.59             2.75            0.00            0.0             0.00            0.0              0.00           0.0             4.59              0.00              0.00             2.7000                    2.8571                  3.0                  1.0000                    1.1429                  1.0                  1.75561                 1.64000              1.84231                   1.00                 2                    5.690175         -0.081250    1\n",
       "Name: count, Length: 2838, dtype: int64"
      ]
     },
     "execution_count": 45,
     "metadata": {},
     "output_type": "execute_result"
    }
   ],
   "source": [
    "stress_df = pd.read_csv('data/archive/dreaddit-train.csv')\n",
    "stress_df.sample(5)\n",
    "#Seems to be several columns I am not interested in.\n",
    "stress_df.value_counts()"
   ]
  },
  {
   "cell_type": "code",
   "execution_count": 28,
   "metadata": {},
   "outputs": [
    {
     "ename": "IndexError",
     "evalue": "index 10 is out of bounds for axis 0 with size 10",
     "output_type": "error",
     "traceback": [
      "\u001b[0;31m---------------------------------------------------------------------------\u001b[0m",
      "\u001b[0;31mIndexError\u001b[0m                                Traceback (most recent call last)",
      "Cell \u001b[0;32mIn[28], line 2\u001b[0m\n\u001b[1;32m      1\u001b[0m not_need_col \u001b[38;5;241m=\u001b[39m \u001b[38;5;28mlist\u001b[39m(\u001b[38;5;28mrange\u001b[39m(\u001b[38;5;241m8\u001b[39m,\u001b[38;5;241m114\u001b[39m))\n\u001b[0;32m----> 2\u001b[0m stress_df\u001b[38;5;241m.\u001b[39mdrop(stress_df\u001b[38;5;241m.\u001b[39mcolumns[not_need_col], axis\u001b[38;5;241m=\u001b[39m\u001b[38;5;241m1\u001b[39m, inplace\u001b[38;5;241m=\u001b[39m\u001b[38;5;28;01mTrue\u001b[39;00m)\n\u001b[1;32m      3\u001b[0m \u001b[38;5;66;03m#Majority drooped not further cleaning\u001b[39;00m\n\u001b[1;32m      4\u001b[0m stress_df\n",
      "File \u001b[0;32m/opt/anaconda3/lib/python3.11/site-packages/pandas/core/indexes/base.py:5383\u001b[0m, in \u001b[0;36mIndex.__getitem__\u001b[0;34m(self, key)\u001b[0m\n\u001b[1;32m   5380\u001b[0m     \u001b[38;5;28;01melse\u001b[39;00m:\n\u001b[1;32m   5381\u001b[0m         key \u001b[38;5;241m=\u001b[39m np\u001b[38;5;241m.\u001b[39masarray(key, dtype\u001b[38;5;241m=\u001b[39m\u001b[38;5;28mbool\u001b[39m)\n\u001b[0;32m-> 5383\u001b[0m result \u001b[38;5;241m=\u001b[39m getitem(key)\n\u001b[1;32m   5384\u001b[0m \u001b[38;5;66;03m# Because we ruled out integer above, we always get an arraylike here\u001b[39;00m\n\u001b[1;32m   5385\u001b[0m \u001b[38;5;28;01mif\u001b[39;00m result\u001b[38;5;241m.\u001b[39mndim \u001b[38;5;241m>\u001b[39m \u001b[38;5;241m1\u001b[39m:\n",
      "\u001b[0;31mIndexError\u001b[0m: index 10 is out of bounds for axis 0 with size 10"
     ]
    }
   ],
   "source": [
    "not_need_col = list(range(8,114))\n",
    "stress_df.drop(stress_df.columns[not_need_col], axis=1, inplace=True)\n",
    "#Majority drooped not further cleaning"
   ]
  },
  {
   "cell_type": "code",
   "execution_count": 31,
   "metadata": {},
   "outputs": [],
   "source": [
    "stress_df.drop(columns=['post_id','sentence_range','id','label','syntax_fk_grade'], inplace=True)"
   ]
  },
  {
   "cell_type": "code",
   "execution_count": 44,
   "metadata": {},
   "outputs": [
    {
     "data": {
      "text/html": [
       "<div>\n",
       "<style scoped>\n",
       "    .dataframe tbody tr th:only-of-type {\n",
       "        vertical-align: middle;\n",
       "    }\n",
       "\n",
       "    .dataframe tbody tr th {\n",
       "        vertical-align: top;\n",
       "    }\n",
       "\n",
       "    .dataframe thead th {\n",
       "        text-align: right;\n",
       "    }\n",
       "</style>\n",
       "<table border=\"1\" class=\"dataframe\">\n",
       "  <thead>\n",
       "    <tr style=\"text-align: right;\">\n",
       "      <th></th>\n",
       "      <th>subreddit</th>\n",
       "      <th>text</th>\n",
       "      <th>confidence</th>\n",
       "      <th>sentiment</th>\n",
       "    </tr>\n",
       "  </thead>\n",
       "  <tbody>\n",
       "    <tr>\n",
       "      <th>0</th>\n",
       "      <td>ptsd</td>\n",
       "      <td>He said he had not felt that way before, sugge...</td>\n",
       "      <td>0.800000</td>\n",
       "      <td>-0.002742</td>\n",
       "    </tr>\n",
       "    <tr>\n",
       "      <th>1</th>\n",
       "      <td>assistance</td>\n",
       "      <td>Hey there r/assistance, Not sure if this is th...</td>\n",
       "      <td>1.000000</td>\n",
       "      <td>0.292857</td>\n",
       "    </tr>\n",
       "    <tr>\n",
       "      <th>2</th>\n",
       "      <td>ptsd</td>\n",
       "      <td>My mom then hit me with the newspaper and it s...</td>\n",
       "      <td>0.800000</td>\n",
       "      <td>0.011894</td>\n",
       "    </tr>\n",
       "    <tr>\n",
       "      <th>3</th>\n",
       "      <td>relationships</td>\n",
       "      <td>until i met my new boyfriend, he is amazing, h...</td>\n",
       "      <td>0.600000</td>\n",
       "      <td>0.141671</td>\n",
       "    </tr>\n",
       "    <tr>\n",
       "      <th>4</th>\n",
       "      <td>survivorsofabuse</td>\n",
       "      <td>October is Domestic Violence Awareness Month a...</td>\n",
       "      <td>0.800000</td>\n",
       "      <td>-0.204167</td>\n",
       "    </tr>\n",
       "    <tr>\n",
       "      <th>...</th>\n",
       "      <td>...</td>\n",
       "      <td>...</td>\n",
       "      <td>...</td>\n",
       "      <td>...</td>\n",
       "    </tr>\n",
       "    <tr>\n",
       "      <th>2833</th>\n",
       "      <td>relationships</td>\n",
       "      <td>* Her, a week ago: Precious, how are you? (I i...</td>\n",
       "      <td>1.000000</td>\n",
       "      <td>0.552066</td>\n",
       "    </tr>\n",
       "    <tr>\n",
       "      <th>2834</th>\n",
       "      <td>ptsd</td>\n",
       "      <td>I don't have the ability to cope with it anymo...</td>\n",
       "      <td>1.000000</td>\n",
       "      <td>-0.220370</td>\n",
       "    </tr>\n",
       "    <tr>\n",
       "      <th>2835</th>\n",
       "      <td>anxiety</td>\n",
       "      <td>In case this is the first time you're reading ...</td>\n",
       "      <td>1.000000</td>\n",
       "      <td>0.045455</td>\n",
       "    </tr>\n",
       "    <tr>\n",
       "      <th>2836</th>\n",
       "      <td>almosthomeless</td>\n",
       "      <td>Do you find this normal? They have a good rela...</td>\n",
       "      <td>0.571429</td>\n",
       "      <td>0.159722</td>\n",
       "    </tr>\n",
       "    <tr>\n",
       "      <th>2837</th>\n",
       "      <td>ptsd</td>\n",
       "      <td>I was talking to my mom this morning and she s...</td>\n",
       "      <td>0.571429</td>\n",
       "      <td>0.016667</td>\n",
       "    </tr>\n",
       "  </tbody>\n",
       "</table>\n",
       "<p>2838 rows × 4 columns</p>\n",
       "</div>"
      ],
      "text/plain": [
       "             subreddit                                               text  \\\n",
       "0                 ptsd  He said he had not felt that way before, sugge...   \n",
       "1           assistance  Hey there r/assistance, Not sure if this is th...   \n",
       "2                 ptsd  My mom then hit me with the newspaper and it s...   \n",
       "3        relationships  until i met my new boyfriend, he is amazing, h...   \n",
       "4     survivorsofabuse  October is Domestic Violence Awareness Month a...   \n",
       "...                ...                                                ...   \n",
       "2833     relationships  * Her, a week ago: Precious, how are you? (I i...   \n",
       "2834              ptsd  I don't have the ability to cope with it anymo...   \n",
       "2835           anxiety  In case this is the first time you're reading ...   \n",
       "2836    almosthomeless  Do you find this normal? They have a good rela...   \n",
       "2837              ptsd  I was talking to my mom this morning and she s...   \n",
       "\n",
       "      confidence  sentiment  \n",
       "0       0.800000  -0.002742  \n",
       "1       1.000000   0.292857  \n",
       "2       0.800000   0.011894  \n",
       "3       0.600000   0.141671  \n",
       "4       0.800000  -0.204167  \n",
       "...          ...        ...  \n",
       "2833    1.000000   0.552066  \n",
       "2834    1.000000  -0.220370  \n",
       "2835    1.000000   0.045455  \n",
       "2836    0.571429   0.159722  \n",
       "2837    0.571429   0.016667  \n",
       "\n",
       "[2838 rows x 4 columns]"
      ]
     },
     "execution_count": 44,
     "metadata": {},
     "output_type": "execute_result"
    }
   ],
   "source": [
    "stress_df['social_timestamp'] = pd.to_datetime(stress_df['social_timestamp'],unit='ms')\n",
    "stress_df.head(5)\n",
    "#seems to be an issue with the timestamps converting to datetime.\n",
    "#Its not crucial for my query so i will drop.\n",
    "stress_df.drop(columns='social_timestamp')"
   ]
  },
  {
   "cell_type": "code",
   "execution_count": 46,
   "metadata": {},
   "outputs": [
    {
     "data": {
      "text/plain": [
       "subreddit\n",
       "ptsd                584\n",
       "relationships       552\n",
       "anxiety             503\n",
       "domesticviolence    316\n",
       "assistance          289\n",
       "survivorsofabuse    245\n",
       "homeless            168\n",
       "almosthomeless       80\n",
       "stress               64\n",
       "food_pantry          37\n",
       "Name: count, dtype: int64"
      ]
     },
     "execution_count": 46,
     "metadata": {},
     "output_type": "execute_result"
    }
   ],
   "source": [
    "#Are there certain subreddits or words/phrases that can be an indicator of high stress\n",
    "stress_df['subreddit'].value_counts()"
   ]
  },
  {
   "cell_type": "code",
   "execution_count": 52,
   "metadata": {},
   "outputs": [
    {
     "ename": "AttributeError",
     "evalue": "'list' object has no attribute 'sum'",
     "output_type": "error",
     "traceback": [
      "\u001b[0;31m---------------------------------------------------------------------------\u001b[0m",
      "\u001b[0;31mAttributeError\u001b[0m                            Traceback (most recent call last)",
      "Cell \u001b[0;32mIn[52], line 1\u001b[0m\n\u001b[0;32m----> 1\u001b[0m stress_df[\u001b[38;5;124m'\u001b[39m\u001b[38;5;124mtext\u001b[39m\u001b[38;5;124m'\u001b[39m]\u001b[38;5;241m.\u001b[39mapply(\u001b[38;5;28;01mlambda\u001b[39;00m x: \u001b[38;5;28mtype\u001b[39m(x) \u001b[38;5;241m==\u001b[39m \u001b[38;5;28mstr\u001b[39m \u001b[38;5;28;01mif\u001b[39;00m x\u001b[38;5;241m.\u001b[39msplit()\u001b[38;5;241m.\u001b[39msum(x) \u001b[38;5;28;01melse\u001b[39;00m \u001b[38;5;28;01mFalse\u001b[39;00m)\n",
      "File \u001b[0;32m/opt/anaconda3/lib/python3.11/site-packages/pandas/core/series.py:4764\u001b[0m, in \u001b[0;36mSeries.apply\u001b[0;34m(self, func, convert_dtype, args, by_row, **kwargs)\u001b[0m\n\u001b[1;32m   4629\u001b[0m \u001b[38;5;28;01mdef\u001b[39;00m \u001b[38;5;21mapply\u001b[39m(\n\u001b[1;32m   4630\u001b[0m     \u001b[38;5;28mself\u001b[39m,\n\u001b[1;32m   4631\u001b[0m     func: AggFuncType,\n\u001b[0;32m   (...)\u001b[0m\n\u001b[1;32m   4636\u001b[0m     \u001b[38;5;241m*\u001b[39m\u001b[38;5;241m*\u001b[39mkwargs,\n\u001b[1;32m   4637\u001b[0m ) \u001b[38;5;241m-\u001b[39m\u001b[38;5;241m>\u001b[39m DataFrame \u001b[38;5;241m|\u001b[39m Series:\n\u001b[1;32m   4638\u001b[0m \u001b[38;5;250m    \u001b[39m\u001b[38;5;124;03m\"\"\"\u001b[39;00m\n\u001b[1;32m   4639\u001b[0m \u001b[38;5;124;03m    Invoke function on values of Series.\u001b[39;00m\n\u001b[1;32m   4640\u001b[0m \n\u001b[0;32m   (...)\u001b[0m\n\u001b[1;32m   4755\u001b[0m \u001b[38;5;124;03m    dtype: float64\u001b[39;00m\n\u001b[1;32m   4756\u001b[0m \u001b[38;5;124;03m    \"\"\"\u001b[39;00m\n\u001b[1;32m   4757\u001b[0m     \u001b[38;5;28;01mreturn\u001b[39;00m SeriesApply(\n\u001b[1;32m   4758\u001b[0m         \u001b[38;5;28mself\u001b[39m,\n\u001b[1;32m   4759\u001b[0m         func,\n\u001b[1;32m   4760\u001b[0m         convert_dtype\u001b[38;5;241m=\u001b[39mconvert_dtype,\n\u001b[1;32m   4761\u001b[0m         by_row\u001b[38;5;241m=\u001b[39mby_row,\n\u001b[1;32m   4762\u001b[0m         args\u001b[38;5;241m=\u001b[39margs,\n\u001b[1;32m   4763\u001b[0m         kwargs\u001b[38;5;241m=\u001b[39mkwargs,\n\u001b[0;32m-> 4764\u001b[0m     )\u001b[38;5;241m.\u001b[39mapply()\n",
      "File \u001b[0;32m/opt/anaconda3/lib/python3.11/site-packages/pandas/core/apply.py:1209\u001b[0m, in \u001b[0;36mSeriesApply.apply\u001b[0;34m(self)\u001b[0m\n\u001b[1;32m   1206\u001b[0m     \u001b[38;5;28;01mreturn\u001b[39;00m \u001b[38;5;28mself\u001b[39m\u001b[38;5;241m.\u001b[39mapply_compat()\n\u001b[1;32m   1208\u001b[0m \u001b[38;5;66;03m# self.func is Callable\u001b[39;00m\n\u001b[0;32m-> 1209\u001b[0m \u001b[38;5;28;01mreturn\u001b[39;00m \u001b[38;5;28mself\u001b[39m\u001b[38;5;241m.\u001b[39mapply_standard()\n",
      "File \u001b[0;32m/opt/anaconda3/lib/python3.11/site-packages/pandas/core/apply.py:1289\u001b[0m, in \u001b[0;36mSeriesApply.apply_standard\u001b[0;34m(self)\u001b[0m\n\u001b[1;32m   1283\u001b[0m \u001b[38;5;66;03m# row-wise access\u001b[39;00m\n\u001b[1;32m   1284\u001b[0m \u001b[38;5;66;03m# apply doesn't have a `na_action` keyword and for backward compat reasons\u001b[39;00m\n\u001b[1;32m   1285\u001b[0m \u001b[38;5;66;03m# we need to give `na_action=\"ignore\"` for categorical data.\u001b[39;00m\n\u001b[1;32m   1286\u001b[0m \u001b[38;5;66;03m# TODO: remove the `na_action=\"ignore\"` when that default has been changed in\u001b[39;00m\n\u001b[1;32m   1287\u001b[0m \u001b[38;5;66;03m#  Categorical (GH51645).\u001b[39;00m\n\u001b[1;32m   1288\u001b[0m action \u001b[38;5;241m=\u001b[39m \u001b[38;5;124m\"\u001b[39m\u001b[38;5;124mignore\u001b[39m\u001b[38;5;124m\"\u001b[39m \u001b[38;5;28;01mif\u001b[39;00m \u001b[38;5;28misinstance\u001b[39m(obj\u001b[38;5;241m.\u001b[39mdtype, CategoricalDtype) \u001b[38;5;28;01melse\u001b[39;00m \u001b[38;5;28;01mNone\u001b[39;00m\n\u001b[0;32m-> 1289\u001b[0m mapped \u001b[38;5;241m=\u001b[39m obj\u001b[38;5;241m.\u001b[39m_map_values(\n\u001b[1;32m   1290\u001b[0m     mapper\u001b[38;5;241m=\u001b[39mcurried, na_action\u001b[38;5;241m=\u001b[39maction, convert\u001b[38;5;241m=\u001b[39m\u001b[38;5;28mself\u001b[39m\u001b[38;5;241m.\u001b[39mconvert_dtype\n\u001b[1;32m   1291\u001b[0m )\n\u001b[1;32m   1293\u001b[0m \u001b[38;5;28;01mif\u001b[39;00m \u001b[38;5;28mlen\u001b[39m(mapped) \u001b[38;5;129;01mand\u001b[39;00m \u001b[38;5;28misinstance\u001b[39m(mapped[\u001b[38;5;241m0\u001b[39m], ABCSeries):\n\u001b[1;32m   1294\u001b[0m     \u001b[38;5;66;03m# GH#43986 Need to do list(mapped) in order to get treated as nested\u001b[39;00m\n\u001b[1;32m   1295\u001b[0m     \u001b[38;5;66;03m#  See also GH#25959 regarding EA support\u001b[39;00m\n\u001b[1;32m   1296\u001b[0m     \u001b[38;5;28;01mreturn\u001b[39;00m obj\u001b[38;5;241m.\u001b[39m_constructor_expanddim(\u001b[38;5;28mlist\u001b[39m(mapped), index\u001b[38;5;241m=\u001b[39mobj\u001b[38;5;241m.\u001b[39mindex)\n",
      "File \u001b[0;32m/opt/anaconda3/lib/python3.11/site-packages/pandas/core/base.py:921\u001b[0m, in \u001b[0;36mIndexOpsMixin._map_values\u001b[0;34m(self, mapper, na_action, convert)\u001b[0m\n\u001b[1;32m    918\u001b[0m \u001b[38;5;28;01mif\u001b[39;00m \u001b[38;5;28misinstance\u001b[39m(arr, ExtensionArray):\n\u001b[1;32m    919\u001b[0m     \u001b[38;5;28;01mreturn\u001b[39;00m arr\u001b[38;5;241m.\u001b[39mmap(mapper, na_action\u001b[38;5;241m=\u001b[39mna_action)\n\u001b[0;32m--> 921\u001b[0m \u001b[38;5;28;01mreturn\u001b[39;00m algorithms\u001b[38;5;241m.\u001b[39mmap_array(arr, mapper, na_action\u001b[38;5;241m=\u001b[39mna_action, convert\u001b[38;5;241m=\u001b[39mconvert)\n",
      "File \u001b[0;32m/opt/anaconda3/lib/python3.11/site-packages/pandas/core/algorithms.py:1814\u001b[0m, in \u001b[0;36mmap_array\u001b[0;34m(arr, mapper, na_action, convert)\u001b[0m\n\u001b[1;32m   1812\u001b[0m values \u001b[38;5;241m=\u001b[39m arr\u001b[38;5;241m.\u001b[39mastype(\u001b[38;5;28mobject\u001b[39m, copy\u001b[38;5;241m=\u001b[39m\u001b[38;5;28;01mFalse\u001b[39;00m)\n\u001b[1;32m   1813\u001b[0m \u001b[38;5;28;01mif\u001b[39;00m na_action \u001b[38;5;129;01mis\u001b[39;00m \u001b[38;5;28;01mNone\u001b[39;00m:\n\u001b[0;32m-> 1814\u001b[0m     \u001b[38;5;28;01mreturn\u001b[39;00m lib\u001b[38;5;241m.\u001b[39mmap_infer(values, mapper, convert\u001b[38;5;241m=\u001b[39mconvert)\n\u001b[1;32m   1815\u001b[0m \u001b[38;5;28;01melse\u001b[39;00m:\n\u001b[1;32m   1816\u001b[0m     \u001b[38;5;28;01mreturn\u001b[39;00m lib\u001b[38;5;241m.\u001b[39mmap_infer_mask(\n\u001b[1;32m   1817\u001b[0m         values, mapper, mask\u001b[38;5;241m=\u001b[39misna(values)\u001b[38;5;241m.\u001b[39mview(np\u001b[38;5;241m.\u001b[39muint8), convert\u001b[38;5;241m=\u001b[39mconvert\n\u001b[1;32m   1818\u001b[0m     )\n",
      "File \u001b[0;32mlib.pyx:2926\u001b[0m, in \u001b[0;36mpandas._libs.lib.map_infer\u001b[0;34m()\u001b[0m\n",
      "Cell \u001b[0;32mIn[52], line 1\u001b[0m, in \u001b[0;36m<lambda>\u001b[0;34m(x)\u001b[0m\n\u001b[0;32m----> 1\u001b[0m stress_df[\u001b[38;5;124m'\u001b[39m\u001b[38;5;124mtext\u001b[39m\u001b[38;5;124m'\u001b[39m]\u001b[38;5;241m.\u001b[39mapply(\u001b[38;5;28;01mlambda\u001b[39;00m x: \u001b[38;5;28mtype\u001b[39m(x) \u001b[38;5;241m==\u001b[39m \u001b[38;5;28mstr\u001b[39m \u001b[38;5;28;01mif\u001b[39;00m x\u001b[38;5;241m.\u001b[39msplit()\u001b[38;5;241m.\u001b[39msum(x) \u001b[38;5;28;01melse\u001b[39;00m \u001b[38;5;28;01mFalse\u001b[39;00m)\n",
      "\u001b[0;31mAttributeError\u001b[0m: 'list' object has no attribute 'sum'"
     ]
    }
   ],
   "source": [
    "def count_words(key,text):\n",
    "    dict_of_worsd\n",
    "    if type(text) == str:\n",
    "        for x in text.split():\n"
   ]
  }
 ],
 "metadata": {
  "kernelspec": {
   "display_name": "base",
   "language": "python",
   "name": "python3"
  },
  "language_info": {
   "codemirror_mode": {
    "name": "ipython",
    "version": 3
   },
   "file_extension": ".py",
   "mimetype": "text/x-python",
   "name": "python",
   "nbconvert_exporter": "python",
   "pygments_lexer": "ipython3",
   "version": "3.11.7"
  }
 },
 "nbformat": 4,
 "nbformat_minor": 2
}
